{
  "cells": [
    {
      "cell_type": "markdown",
      "source": [
        "### Load Libraries and Check Version of TensorFlow Library"
      ],
      "metadata": {
        "id": "zPjvgmIkX07E"
      }
    },
    {
      "cell_type": "code",
      "execution_count": null,
      "metadata": {
        "id": "5dEgRpy3952M",
        "colab": {
          "base_uri": "https://localhost:8080/",
          "height": 36
        },
        "outputId": "74c8fcdd-982d-406e-82fd-fc71536f4458"
      },
      "outputs": [
        {
          "output_type": "execute_result",
          "data": {
            "text/plain": [
              "'2.15.0'"
            ],
            "application/vnd.google.colaboratory.intrinsic+json": {
              "type": "string"
            }
          },
          "metadata": {},
          "execution_count": 1
        }
      ],
      "source": [
        "import pandas as pd\n",
        "import numpy as np\n",
        "import sys\n",
        "import matplotlib.pyplot as plt\n",
        "import matplotlib.cm as cm\n",
        "from keras.datasets import mnist\n",
        "plt.style.use('dark_background')\n",
        "%matplotlib inline\n",
        "import tensorflow as tf\n",
        "tf.__version__"
      ]
    },
    {
      "cell_type": "markdown",
      "source": [
        "### Setting Printing Precision"
      ],
      "metadata": {
        "id": "VuI_-TVcYAp6"
      }
    },
    {
      "cell_type": "code",
      "execution_count": null,
      "metadata": {
        "id": "G9W_1_v_6yq7"
      },
      "outputs": [],
      "source": [
        "np.set_printoptions(precision=2)"
      ]
    },
    {
      "cell_type": "markdown",
      "metadata": {
        "id": "16BpVeIWIOks"
      },
      "source": [
        "### Load MNIST Data and Train Test Splitting"
      ]
    },
    {
      "cell_type": "code",
      "execution_count": null,
      "metadata": {
        "id": "E5kaKFKSIQgu",
        "colab": {
          "base_uri": "https://localhost:8080/"
        },
        "outputId": "09e35d17-66db-4a42-b08d-24c203f3a719"
      },
      "outputs": [
        {
          "output_type": "stream",
          "name": "stdout",
          "text": [
            "Downloading data from https://storage.googleapis.com/tensorflow/tf-keras-datasets/mnist.npz\n",
            "11490434/11490434 [==============================] - 0s 0us/step\n",
            "MNIST set\n",
            "---------------------\n",
            "Number of training samples = 60000\n",
            "Number of features = 784\n",
            "Number of output labels = 10\n",
            "Shape of the X_train Matrix is: (784, 60000)\n"
          ]
        }
      ],
      "source": [
        "## Load MNIST data\n",
        "(X_train, y_train), (X_test, y_test) = mnist.load_data()\n",
        "X_train = X_train.transpose(1, 2, 0)\n",
        "X_test = X_test.transpose(1, 2, 0)\n",
        "X_train = X_train.reshape(X_train.shape[0]*X_train.shape[1], X_train.shape[2])\n",
        "X_test = X_test.reshape(X_test.shape[0]*X_test.shape[1], X_test.shape[2])\n",
        "\n",
        "num_labels = len(np.unique(y_train))\n",
        "num_features = X_train.shape[0]\n",
        "num_samples = X_train.shape[1]\n",
        "\n",
        "# One-hot encode class labels\n",
        "Y_train = tf.keras.utils.to_categorical(y_train).T\n",
        "Y_test = tf.keras.utils.to_categorical(y_test).T\n",
        "\n",
        "\n",
        "# Normalize the samples (images)\n",
        "xmax = np.amax(X_train)\n",
        "xmin = np.amin(X_train)\n",
        "X_train = (X_train - xmin) / (xmax - xmin) # all train features turn into a number between 0 and 1\n",
        "X_test = (X_test - xmin)/(xmax - xmin)\n",
        "\n",
        "print('MNIST set')\n",
        "print('---------------------')\n",
        "print('Number of training samples = %d'%(num_samples))\n",
        "print('Number of features = %d'%(num_features))\n",
        "print('Number of output labels = %d'%(num_labels))\n",
        "print('Shape of the X_train Matrix is:', X_train.shape)"
      ]
    },
    {
      "cell_type": "markdown",
      "metadata": {
        "id": "IrXipxwrJ0_8"
      },
      "source": [
        "### A generic layer class with forward and backward methods"
      ]
    },
    {
      "cell_type": "code",
      "execution_count": null,
      "metadata": {
        "id": "N4pKUhCyMrWm"
      },
      "outputs": [],
      "source": [
        "class Layer:\n",
        "  def __init__(self):\n",
        "    self.input = None\n",
        "    self.output = None\n",
        "\n",
        "  def forward(self, input):\n",
        "    pass\n",
        "\n",
        "  def backward(self, output_gradient, learning_rate):\n",
        "    pass"
      ]
    },
    {
      "cell_type": "markdown",
      "source": [
        "### Define the loss function and its gradient"
      ],
      "metadata": {
        "id": "XhobXZdAaKX0"
      }
    },
    {
      "cell_type": "code",
      "execution_count": null,
      "metadata": {
        "id": "hdXSGW2s7zKd"
      },
      "outputs": [],
      "source": [
        "def cce(Y, Yhat):\n",
        "  return(np.mean(np.sum(-Y*np.log(Yhat), axis = 0)))\n",
        "  #TensorFlow in-built function for categorical crossentropy loss\n",
        "  #cce = tf.keras.losses.CategoricalCrossentropy()\n",
        "  #return(cce(Y, Yhat).numpy())\n",
        "\n",
        "def cce_gradient(Y, Yhat):\n",
        "  return(-Y/Yhat)"
      ]
    },
    {
      "cell_type": "markdown",
      "source": [
        "### Define The Activation Layer and Its Forward and Backward Method"
      ],
      "metadata": {
        "id": "PeHsHv01aOP_"
      }
    },
    {
      "cell_type": "code",
      "source": [
        "class Activation(Layer):\n",
        "    def __init__(self, activation, activation_gradient):\n",
        "        self.activation = activation\n",
        "        self.activation_gradient = activation_gradient\n",
        "\n",
        "    def forward(self, input):\n",
        "        self.input = input\n",
        "        self.output = self.activation(self.input)\n",
        "        return(self.output)\n",
        "\n",
        "    def backward(self, output_gradient, learning_rate = None):\n",
        "        return(self.activation_gradient(self.input) * output_gradient[:-1, :])"
      ],
      "metadata": {
        "id": "C21FcWIEwGCN"
      },
      "execution_count": null,
      "outputs": []
    },
    {
      "cell_type": "markdown",
      "source": [
        "### Specific activation layer classes:\n",
        "* Signoid Activation Function\n",
        "* Tanh Activation Function\n",
        "* ReLU Activation Function"
      ],
      "metadata": {
        "id": "JheGWSoKxYWu"
      }
    },
    {
      "cell_type": "code",
      "source": [
        "class Sigmoid(Activation):\n",
        "    def __init__(self):\n",
        "        def sigmoid(z):\n",
        "            return 1 / (1+np.exp(-z))\n",
        "\n",
        "        def sigmoid_gradient(z):\n",
        "            a = sigmoid(z)\n",
        "            return a * (1-a)\n",
        "\n",
        "        super().__init__(sigmoid, sigmoid_gradient)\n",
        "\n",
        "class Tanh(Activation):\n",
        "    def __init__(self):\n",
        "        def tanh(z):\n",
        "            return np.tanh(z)\n",
        "\n",
        "        def tanh_gradient(z):\n",
        "            a = np.tanh(z)\n",
        "            return (1-(a**2))\n",
        "\n",
        "        super().__init__(tanh, tanh_gradient)\n",
        "\n",
        "class ReLU(Activation):\n",
        "    def __init__(self):\n",
        "        def relu(z):\n",
        "            return z * (z > 0)\n",
        "\n",
        "        def relu_gradient(z):\n",
        "            return 1. * (z > 0)\n",
        "\n",
        "        super().__init__(relu, relu_gradient)"
      ],
      "metadata": {
        "id": "PQ5ybz_Yxbef"
      },
      "execution_count": null,
      "outputs": []
    },
    {
      "cell_type": "code",
      "source": [
        "# What the SoftMax Function is doing Interbally\n",
        "z = np.array([[10., 20., 30.], [-10., 50., 45.]]) # By giving a '.', convert them in flosting type values\n",
        "print(z)\n",
        "tf.nn.softmax(z, axis = 0).numpy()"
      ],
      "metadata": {
        "colab": {
          "base_uri": "https://localhost:8080/"
        },
        "id": "gDpmikNF1jmO",
        "outputId": "78759840-0435-4751-f0e5-b8016713fe40"
      },
      "execution_count": null,
      "outputs": [
        {
          "output_type": "stream",
          "name": "stdout",
          "text": [
            "[[ 10.  20.  30.]\n",
            " [-10.  50.  45.]]\n"
          ]
        },
        {
          "output_type": "execute_result",
          "data": {
            "text/plain": [
              "array([[1.00e+00, 9.36e-14, 3.06e-07],\n",
              "       [2.06e-09, 1.00e+00, 1.00e+00]])"
            ]
          },
          "metadata": {},
          "execution_count": 8
        }
      ]
    },
    {
      "cell_type": "markdown",
      "source": [
        "### Softmax activation layer class and Its Forward and Backward Method\n"
      ],
      "metadata": {
        "id": "C-5Ch6ihanP0"
      }
    },
    {
      "cell_type": "code",
      "execution_count": null,
      "metadata": {
        "id": "4x1Xn3AbJlNy"
      },
      "outputs": [],
      "source": [
        "class Softmax(Layer):\n",
        "  def forward(self, input):\n",
        "    self.output = tf.nn.softmax(input, axis = 0).numpy()\n",
        "\n",
        "  def backward(self, output_gradient, learning_rate = None):\n",
        "    ## Following is the inefficient way of calculating the backward gradient\n",
        "    softmax_gradient = np.empty((self.output.shape[0], output_gradient.shape[1]), dtype = np.float64)\n",
        "    for b in range(softmax_gradient.shape[1]):\n",
        "      softmax_gradient[:, b] = np.dot((np.identity(self.output.shape[0])-np.atleast_2d(self.output[:, b])) * np.atleast_2d(self.output[:, b]).T, output_gradient[:, b])\n",
        "    return(softmax_gradient)\n",
        "    ## Following is the efficient way of calculating the backward gradient\n",
        "    #T = np.transpose(np.identity(self.output.shape[0]) - np.atleast_2d(self.output).T[:, np.newaxis, :], (2, 1, 0)) * np.atleast_2d(self.output)\n",
        "    #return(np.einsum('jik, ik -> jk', T, output_gradient))"
      ]
    },
    {
      "cell_type": "markdown",
      "source": [
        "### Dense layer class and Its Forward and Backward Method\n"
      ],
      "metadata": {
        "id": "xxeuqOshauBc"
      }
    },
    {
      "cell_type": "code",
      "execution_count": 16,
      "metadata": {
        "id": "8ctXhZYCTmHK"
      },
      "outputs": [],
      "source": [
        "class Dense(Layer):\n",
        "    def __init__(self, input_size, output_size, reg_strength = 0.0):\n",
        "        self.weights = 0.01*np.random.randn(output_size, input_size + 1) # bias trick\n",
        "        self.weights[:, -1] = 0.01 # set all bias values to the same nonzero constant\n",
        "        self.reg_strength = reg_strength\n",
        "        self.reg_loss = None\n",
        "\n",
        "    def forward(self, input):\n",
        "        self.input = np.vstack([input, np.ones((1, input.shape[1]))]) # bias trick\n",
        "        self.output= np.dot(self.weights, self.input)\n",
        "        # Calculate the regularization loss (L2 regularization)\n",
        "        self.reg_loss = self.reg_strength * np.sum(self.weights[:, :-1] * self.weights[:, :-1])\n",
        "\n",
        "    def backward(self, output_gradient, learning_rate):\n",
        "        ## Following is the inefficient way of calculating the backward gradient\n",
        "        weights_gradient = np.zeros((self.output.shape[0], self.input.shape[0]), dtype = np.float64)\n",
        "        for b in range(output_gradient.shape[1]):\n",
        "          weights_gradient += np.dot(output_gradient[:, b].reshape(-1, 1), self.input[:, b].reshape(-1, 1).T)\n",
        "        weights_gradient = (1/output_gradient.shape[1])*weights_gradient\n",
        "\n",
        "        # Add the regularization loss gradient here\n",
        "        weights_gradient += 2*self.reg_strength * np.hstack([self.weights[:, :-1], np.zeros((self.weights.shape[0], 1))])\n",
        "\n",
        "        ## Following is the efficient way of calculating the weights gradient\n",
        "        #weights_gradient = (1/output_gradient.shape[1])*np.dot(np.atleast_2d(output_gradient), np.atleast_2d(self.input).T)\n",
        "\n",
        "        input_gradient = np.dot(self.weights.T, output_gradient)\n",
        "\n",
        "        # Update weights using gradient descent step\n",
        "        self.weights = self.weights + learning_rate * (-weights_gradient)\n",
        "\n",
        "        return(input_gradient)"
      ]
    },
    {
      "cell_type": "markdown",
      "metadata": {
        "id": "2W1howeOJegI"
      },
      "source": [
        "### Function to generate sample indices for batch processing according to batch size"
      ]
    },
    {
      "cell_type": "code",
      "execution_count": 18,
      "metadata": {
        "id": "MHyjEf22IRpc"
      },
      "outputs": [],
      "source": [
        "## Function to generate sample indices for batch processing according to batch size\n",
        "def generate_batch_indices(num_samples, batch_size):\n",
        "  # Reorder sample indices\n",
        "  reordered_sample_indices = np.random.choice(num_samples, num_samples, replace = False)\n",
        "  # Generate batch indices for batch processing\n",
        "  batch_indices = np.split(reordered_sample_indices, np.arange(batch_size, len(reordered_sample_indices), batch_size))\n",
        "  return(batch_indices)"
      ]
    },
    {
      "cell_type": "markdown",
      "metadata": {
        "id": "sKFmCaFsJhkR"
      },
      "source": [
        "### Example generation of batch indices"
      ]
    },
    {
      "cell_type": "code",
      "execution_count": 19,
      "metadata": {
        "id": "k9QwikN0IYSp",
        "colab": {
          "base_uri": "https://localhost:8080/"
        },
        "outputId": "3494e991-002c-4126-97b1-77a7abfdf9be"
      },
      "outputs": [
        {
          "output_type": "stream",
          "name": "stdout",
          "text": [
            "[array([20, 25,  8,  7, 16, 23, 30,  3]), array([19,  6,  4, 24, 27, 29, 13,  2]), array([12,  9, 21, 10, 31, 11,  0,  5]), array([15, 14, 17, 26, 28,  1, 22, 18])]\n"
          ]
        }
      ],
      "source": [
        "## Example generation of batch indices\n",
        "batch_size = 8\n",
        "batch_indices = generate_batch_indices(32, batch_size)\n",
        "print(batch_indices)"
      ]
    },
    {
      "cell_type": "markdown",
      "metadata": {
        "id": "fI_Gms9fJqbs"
      },
      "source": [
        "### Train the 2-layer neural network (128 nodes in the hidden layer) using batch training with batch size = 100"
      ]
    },
    {
      "cell_type": "code",
      "source": [
        "## Train the 2-layer neural network (128 nodes in the hidden layer)\n",
        "## using batch training with batch size = 100\n",
        "learning_rate = 1e-3 # learning rate\n",
        "batch_size = 100 # batch size\n",
        "nepochs = 50 # number of epochs\n",
        "reg_strength = 0 # regularization strength\n",
        "\n",
        "# Create empty array to store training losses over each epoch\n",
        "loss_train_epoch = np.empty(nepochs, dtype = np.float64)\n",
        "\n",
        "# Create empty array to store test losses over each epoch\n",
        "loss_test_epoch = np.empty(nepochs, dtype = np.float64)\n",
        "\n",
        "# Define neural network architecture\n",
        "dlayer1 = Dense(num_features, 128, reg_strength) # define dense layer 1\n",
        "alayer1 = ReLU() # define activation layer 1\n",
        "dlayer2 = Dense(128, num_labels, reg_strength) # define dense layer 2\n",
        "softmax = Softmax() # define softmax activation layer\n",
        "\n",
        "# Steps: run over each batch, calculate average loss, average gradient of loss,\n",
        "# and update weights.\n",
        "\n",
        "epoch = 0\n",
        "while epoch < nepochs:\n",
        "  batch_indices = generate_batch_indices(num_samples, batch_size)\n",
        "  loss = 0\n",
        "  # Run over each batch\n",
        "  for b in range(len(batch_indices)):\n",
        "    # Forward prop starts here\n",
        "    dlayer1.forward(X_train[:, batch_indices[b]])\n",
        "    alayer1.forward(dlayer1.output)\n",
        "    dlayer2.forward(alayer1.output)\n",
        "    softmax.forward(dlayer2.output)\n",
        "\n",
        "    # Calculate training data loss\n",
        "    loss += cce(Y_train[:, batch_indices[b]], softmax.output)\n",
        "    loss += dlayer1.reg_loss + dlayer2.reg_loss\n",
        "\n",
        "    # Backward prop starts here\n",
        "    grad = cce_gradient(Y_train[:, batch_indices[b]], softmax.output)\n",
        "    grad = softmax.backward(grad)\n",
        "    grad = dlayer2.backward(grad, learning_rate)\n",
        "    grad = alayer1.backward(grad)\n",
        "    grad = dlayer1.backward(grad, learning_rate)\n",
        "\n",
        "  # Calculate the average training loss for the current epoch\n",
        "  loss_train_epoch[epoch] = loss / len(batch_indices)\n",
        "\n",
        "  # Forward propagation for the test data\n",
        "  dlayer1.forward(X_test)\n",
        "  alayer1.forward(dlayer1.output)\n",
        "  dlayer2.forward(alayer1.output)\n",
        "  softmax.forward(dlayer2.output)\n",
        "\n",
        "  # Calculate the test data loss for the current epoch\n",
        "  loss_test_epoch[epoch] = cce(Y_test, softmax.output) + dlayer1.reg_loss + dlayer2.reg_loss\n",
        "\n",
        "  print('Epoch %d: train loss = %f, test loss = %f'%(epoch+1, loss_train_epoch[epoch], loss_test_epoch[epoch]))\n",
        "  epoch = epoch + 1"
      ],
      "metadata": {
        "colab": {
          "base_uri": "https://localhost:8080/"
        },
        "id": "b20wT5papntA",
        "outputId": "520bfa3a-2946-499e-b062-782536743d91"
      },
      "execution_count": 22,
      "outputs": [
        {
          "output_type": "stream",
          "name": "stdout",
          "text": [
            "Epoch 1: train loss = 2.298704, test loss = 2.294219\n",
            "Epoch 2: train loss = 2.289447, test loss = 2.283279\n",
            "Epoch 3: train loss = 2.276365, test loss = 2.267052\n",
            "Epoch 4: train loss = 2.256376, test loss = 2.241882\n",
            "Epoch 5: train loss = 2.225171, test loss = 2.202683\n",
            "Epoch 6: train loss = 2.177267, test loss = 2.143544\n",
            "Epoch 7: train loss = 2.107005, test loss = 2.059170\n",
            "Epoch 8: train loss = 2.010345, test loss = 1.946843\n",
            "Epoch 9: train loss = 1.886774, test loss = 1.808589\n",
            "Epoch 10: train loss = 1.741350, test loss = 1.653062\n",
            "Epoch 11: train loss = 1.585487, test loss = 1.494626\n",
            "Epoch 12: train loss = 1.433321, test loss = 1.346681\n",
            "Epoch 13: train loss = 1.295570, test loss = 1.216873\n",
            "Epoch 14: train loss = 1.176615, test loss = 1.106718\n",
            "Epoch 15: train loss = 1.076172, test loss = 1.014386\n",
            "Epoch 16: train loss = 0.991915, test loss = 0.936977\n",
            "Epoch 17: train loss = 0.921062, test loss = 0.871798\n",
            "Epoch 18: train loss = 0.861163, test loss = 0.816605\n",
            "Epoch 19: train loss = 0.810143, test loss = 0.769538\n",
            "Epoch 20: train loss = 0.766413, test loss = 0.728854\n",
            "Epoch 21: train loss = 0.728636, test loss = 0.693747\n",
            "Epoch 22: train loss = 0.695734, test loss = 0.663058\n",
            "Epoch 23: train loss = 0.666925, test loss = 0.636154\n",
            "Epoch 24: train loss = 0.641512, test loss = 0.612143\n",
            "Epoch 25: train loss = 0.618988, test loss = 0.590764\n",
            "Epoch 26: train loss = 0.598855, test loss = 0.571785\n",
            "Epoch 27: train loss = 0.580801, test loss = 0.554742\n",
            "Epoch 28: train loss = 0.564574, test loss = 0.539249\n",
            "Epoch 29: train loss = 0.549835, test loss = 0.525191\n",
            "Epoch 30: train loss = 0.536423, test loss = 0.512296\n",
            "Epoch 31: train loss = 0.524180, test loss = 0.500604\n",
            "Epoch 32: train loss = 0.512984, test loss = 0.489975\n",
            "Epoch 33: train loss = 0.502660, test loss = 0.480016\n",
            "Epoch 34: train loss = 0.493144, test loss = 0.470788\n",
            "Epoch 35: train loss = 0.484325, test loss = 0.462565\n",
            "Epoch 36: train loss = 0.476139, test loss = 0.454885\n",
            "Epoch 37: train loss = 0.468580, test loss = 0.447305\n",
            "Epoch 38: train loss = 0.461484, test loss = 0.440568\n",
            "Epoch 39: train loss = 0.454850, test loss = 0.434336\n",
            "Epoch 40: train loss = 0.448638, test loss = 0.428457\n",
            "Epoch 41: train loss = 0.442809, test loss = 0.422710\n",
            "Epoch 42: train loss = 0.437336, test loss = 0.417415\n",
            "Epoch 43: train loss = 0.432167, test loss = 0.412603\n",
            "Epoch 44: train loss = 0.427279, test loss = 0.407916\n",
            "Epoch 45: train loss = 0.422690, test loss = 0.403587\n",
            "Epoch 46: train loss = 0.418292, test loss = 0.399499\n",
            "Epoch 47: train loss = 0.414172, test loss = 0.395390\n",
            "Epoch 48: train loss = 0.410237, test loss = 0.391724\n",
            "Epoch 49: train loss = 0.406485, test loss = 0.388145\n",
            "Epoch 50: train loss = 0.402923, test loss = 0.384911\n"
          ]
        }
      ]
    },
    {
      "cell_type": "markdown",
      "source": [
        "### Plot train and test loss as a function of epoch"
      ],
      "metadata": {
        "id": "2CWdkpLpXRmz"
      }
    },
    {
      "cell_type": "code",
      "execution_count": 23,
      "metadata": {
        "id": "Iv3k23SlCqGf",
        "colab": {
          "base_uri": "https://localhost:8080/",
          "height": 367
        },
        "outputId": "26c7c864-24d8-4827-81bc-b3ad30b2f9cd"
      },
      "outputs": [
        {
          "output_type": "display_data",
          "data": {
            "text/plain": [
              "<Figure size 400x400 with 1 Axes>"
            ],
            "image/png": "[encoded data removed]"
          },
          "metadata": {}
        }
      ],
      "source": [
        "fig, ax = plt.subplots(1, 1, figsize = (4, 4))\n",
        "fig.tight_layout(pad = 4.0)\n",
        "ax.plot(loss_train_epoch, 'b', label = 'Train')\n",
        "ax.plot(loss_test_epoch, 'r', label = 'Test')\n",
        "ax.set_xlabel('Epoch', fontsize = 12)\n",
        "ax.set_ylabel('Loss value', fontsize = 12)\n",
        "ax.legend()\n",
        "ax.set_title('Loss vs. Epoch for reg. strength 0.01', fontsize = 14);"
      ]
    },
    {
      "cell_type": "markdown",
      "source": [
        "### Test performance on test data\n",
        "Forward Propagation Using the Weights from the Last Epoch and Predicting the Output Lables for the Test data"
      ],
      "metadata": {
        "id": "0gCpbGyNXX8o"
      }
    },
    {
      "cell_type": "code",
      "execution_count": 24,
      "metadata": {
        "id": "d7AEbmpcKcPY",
        "colab": {
          "base_uri": "https://localhost:8080/"
        },
        "outputId": "78b4a673-6504-48bf-c67f-9d972b58bb80"
      },
      "outputs": [
        {
          "output_type": "stream",
          "name": "stdout",
          "text": [
            "[7 2 1 ... 4 5 6]\n",
            "[7 2 1 ... 4 5 6]\n"
          ]
        },
        {
          "output_type": "execute_result",
          "data": {
            "text/plain": [
              "0.8973"
            ]
          },
          "metadata": {},
          "execution_count": 24
        }
      ],
      "source": [
        "## Forward propagate using the weights from the last epoch\n",
        "dlayer1.forward(X_test)\n",
        "alayer1.forward(dlayer1.output)\n",
        "dlayer2.forward(alayer1.output)\n",
        "softmax.forward(dlayer2.output)\n",
        "\n",
        "# Predict the output labels for the test data\n",
        "ypred = np.argmax(softmax.output.T, axis = 1)\n",
        "print(ypred)\n",
        "ytrue = np.argmax(Y_test.T, axis = 1)\n",
        "print(ytrue)\n",
        "np.mean(ytrue == ypred)"
      ]
    },
    {
      "cell_type": "markdown",
      "source": [
        "### Confusion Matrix: Used to know how the model performs on unseen test data\n",
        "* sklearn's metrics module is used to create the confusion matrix\n",
        "* It has a function  called confusion_matrix to create the matrix"
      ],
      "metadata": {
        "id": "AzqhLVr5tzj9"
      }
    },
    {
      "cell_type": "code",
      "source": [
        "# Creating Confusion Matrix\n",
        "from sklearn.metrics import confusion_matrix\n",
        "confusion_matrix(ytrue, ypred)"
      ],
      "metadata": {
        "id": "X3FFv71B-fX9",
        "colab": {
          "base_uri": "https://localhost:8080/"
        },
        "outputId": "47fb5b5f-cca5-4954-c009-8bc006f85cb3"
      },
      "execution_count": 25,
      "outputs": [
        {
          "output_type": "execute_result",
          "data": {
            "text/plain": [
              "array([[ 955,    0,    5,    2,    0,    7,    9,    1,    1,    0],\n",
              "       [   0, 1106,    0,    5,    0,    1,    4,    1,   18,    0],\n",
              "       [  13,   11,  891,   17,   19,    1,   20,   16,   42,    2],\n",
              "       [   4,    0,   22,  895,    1,   37,    2,   18,   25,    6],\n",
              "       [   1,    4,    6,    1,  908,    1,   14,    1,    7,   39],\n",
              "       [  18,    3,    6,   52,   12,  722,   25,   10,   35,    9],\n",
              "       [  19,    3,   12,    1,   19,   18,  879,    0,    7,    0],\n",
              "       [   6,   19,   28,    3,    9,    1,    0,  922,    6,   34],\n",
              "       [   6,    9,   14,   27,   13,   35,   14,   11,  825,   20],\n",
              "       [  11,    7,    5,   11,   51,   14,    0,   33,    7,  870]])"
            ]
          },
          "metadata": {},
          "execution_count": 25
        }
      ]
    }
  ],
  "metadata": {
    "colab": {
      "provenance": []
    },
    "kernelspec": {
      "display_name": "Python 3",
      "name": "python3"
    }
  },
  "nbformat": 4,
  "nbformat_minor": 0
}