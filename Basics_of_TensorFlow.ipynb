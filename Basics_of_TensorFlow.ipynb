{
  "nbformat": 4,
  "nbformat_minor": 0,
  "metadata": {
    "colab": {
      "provenance": []
    },
    "kernelspec": {
      "name": "python3",
      "display_name": "Python 3"
    },
    "language_info": {
      "name": "python"
    }
  },
  "cells": [
    {
      "cell_type": "markdown",
      "source": [
        "## Importing TensorFlow library and Checking Vesrion"
      ],
      "metadata": {
        "id": "lRbNTlcOohyR"
      }
    },
    {
      "cell_type": "code",
      "execution_count": 2,
      "metadata": {
        "colab": {
          "base_uri": "https://localhost:8080/",
          "height": 36
        },
        "id": "ZW_qL-sMHXKZ",
        "outputId": "89a3326c-d524-42e2-8083-3c802b308a5f"
      },
      "outputs": [
        {
          "output_type": "execute_result",
          "data": {
            "text/plain": [
              "'2.15.0'"
            ],
            "application/vnd.google.colaboratory.intrinsic+json": {
              "type": "string"
            }
          },
          "metadata": {},
          "execution_count": 2
        }
      ],
      "source": [
        "import tensorflow as tf\n",
        "tf.__version__ # Checking version"
      ]
    },
    {
      "cell_type": "markdown",
      "source": [
        "## Crreating a 1D TensorFlow Array and sanity chaceks\n"
      ],
      "metadata": {
        "id": "aBlmutoror1Y"
      }
    },
    {
      "cell_type": "code",
      "source": [
        "x = tf.range(12, dtype = tf.float32)\n",
        "print(x)\n",
        "print('The type of X is:',type(x))\n",
        "print('The Number of elements in x is:', tf.size(x))\n",
        "print('The shape of tensor is:', x.shape)"
      ],
      "metadata": {
        "colab": {
          "base_uri": "https://localhost:8080/"
        },
        "id": "zcP2sQFOHnlo",
        "outputId": "30dfb3f7-74b3-4c84-f4d4-4fb2ee77a1f7"
      },
      "execution_count": 10,
      "outputs": [
        {
          "output_type": "stream",
          "name": "stdout",
          "text": [
            "tf.Tensor([ 0.  1.  2.  3.  4.  5.  6.  7.  8.  9. 10. 11.], shape=(12,), dtype=float32)\n",
            "The type of X is: <class 'tensorflow.python.framework.ops.EagerTensor'>\n",
            "The Number of elements in x is: tf.Tensor(12, shape=(), dtype=int32)\n",
            "The shape of tensor is: (12,)\n"
          ]
        }
      ]
    },
    {
      "cell_type": "markdown",
      "source": [
        "## Manipulating tensors"
      ],
      "metadata": {
        "id": "H5oCh0g3ow_I"
      }
    },
    {
      "cell_type": "code",
      "source": [
        "x_man = tf.reshape(x,(3,4)) # 3 rows and 4 columns\n",
        "print(x_man)\n",
        "print('----------------Method-2 for creating x_man--------------------------')\n",
        "# We can achieve this by using (-1,4) or by using (3,-1)\n",
        "x_man2 = tf.reshape(x, (-1,4))\n",
        "print(x_man2)\n",
        "print('----------------Method - 3 for creating x_man------------------------')\n",
        "x_man3 = tf.reshape(x, (3,-1))\n",
        "print(x_man3)\n",
        "\n",
        "# This tesnor x_man/x_man2/x_man3 can be coveyed as a 4 vector repeating 3 times"
      ],
      "metadata": {
        "colab": {
          "base_uri": "https://localhost:8080/"
        },
        "id": "poYryOovH2oY",
        "outputId": "86e8f80e-03b9-494e-ce8f-3da4ec257a29"
      },
      "execution_count": 14,
      "outputs": [
        {
          "output_type": "stream",
          "name": "stdout",
          "text": [
            "tf.Tensor(\n",
            "[[ 0.  1.  2.  3.]\n",
            " [ 4.  5.  6.  7.]\n",
            " [ 8.  9. 10. 11.]], shape=(3, 4), dtype=float32)\n",
            "----------------Method-2 for creating x_man--------------------------\n",
            "tf.Tensor(\n",
            "[[ 0.  1.  2.  3.]\n",
            " [ 4.  5.  6.  7.]\n",
            " [ 8.  9. 10. 11.]], shape=(3, 4), dtype=float32)\n",
            "----------------Method - 3 for creating x_man------------------------\n",
            "tf.Tensor(\n",
            "[[ 0.  1.  2.  3.]\n",
            " [ 4.  5.  6.  7.]\n",
            " [ 8.  9. 10. 11.]], shape=(3, 4), dtype=float32)\n"
          ]
        }
      ]
    },
    {
      "cell_type": "markdown",
      "source": [
        "## Tensors with predetermined entries"
      ],
      "metadata": {
        "id": "aXZ86Na3o1WT"
      }
    },
    {
      "cell_type": "code",
      "source": [
        "print('----------------A 3D tensor having all entries equal to 0----------------------')\n",
        "ten_1 = tf.zeros((2,3,4))\n",
        "print(ten_1) # In plain English, it is a (3*4) matrix repeating 2 times\n",
        "print('Number of Elements in ten_1 is:', tf.size(ten_1))\n",
        "print('Shape of ten_1 is:', tf.shape(ten_1))\n",
        "\n",
        "# We can achieve the same using the tf.ones((2,3,4)) code line.\n",
        "# The resulting tensor will contain 24 elemnts all equal to 1."
      ],
      "metadata": {
        "colab": {
          "base_uri": "https://localhost:8080/"
        },
        "id": "20OaJqaKJLhW",
        "outputId": "16c34578-d070-4435-8a2e-b9f0013bfd1f"
      },
      "execution_count": 18,
      "outputs": [
        {
          "output_type": "stream",
          "name": "stdout",
          "text": [
            "----------------A 3D tensor having all entries equal to 0----------------------\n",
            "tf.Tensor(\n",
            "[[[0. 0. 0. 0.]\n",
            "  [0. 0. 0. 0.]\n",
            "  [0. 0. 0. 0.]]\n",
            "\n",
            " [[0. 0. 0. 0.]\n",
            "  [0. 0. 0. 0.]\n",
            "  [0. 0. 0. 0.]]], shape=(2, 3, 4), dtype=float32)\n",
            "Number of Elements in ten_1 is: tf.Tensor(24, shape=(), dtype=int32)\n",
            "Shape of ten_1 is: tf.Tensor([2 3 4], shape=(3,), dtype=int32)\n"
          ]
        }
      ]
    },
    {
      "cell_type": "markdown",
      "source": [
        "## Tensor With Randomly Sampled Elements"
      ],
      "metadata": {
        "id": "RsNRc0sBo4hL"
      }
    },
    {
      "cell_type": "code",
      "source": [
        "print('----------A 2D Randomly Sampled Tensor---------------------')\n",
        "ten_2 = tf.random.normal((3,4))\n",
        "print(ten_2)"
      ],
      "metadata": {
        "colab": {
          "base_uri": "https://localhost:8080/"
        },
        "id": "MF_7UAdpKo3D",
        "outputId": "4ba32519-a622-433a-d9f9-239e8a24c7bb"
      },
      "execution_count": 20,
      "outputs": [
        {
          "output_type": "stream",
          "name": "stdout",
          "text": [
            "----------A 2D Randomly Sampled Tensor---------------------\n",
            "tf.Tensor(\n",
            "[[-0.7372891   2.2366188   1.9066384   0.9629631 ]\n",
            " [ 1.9267477  -1.742335   -1.1366998  -0.06294131]\n",
            " [-1.4197358   0.7971444   0.47814348 -1.0850741 ]], shape=(3, 4), dtype=float32)\n"
          ]
        },
        {
          "output_type": "execute_result",
          "data": {
            "text/plain": [
              "<tf.Tensor: shape=(), dtype=bool, numpy=False>"
            ]
          },
          "metadata": {},
          "execution_count": 20
        }
      ]
    },
    {
      "cell_type": "markdown",
      "source": [
        "## Creating a Constant Tensor"
      ],
      "metadata": {
        "id": "v_mWsoMEo8yD"
      }
    },
    {
      "cell_type": "code",
      "source": [
        "print('Çreating A Simple  2D Constant Tensor')\n",
        "ten_3 = tf.constant([[2, 1, 4, 3], [1, 2, 3, 4], [4, 3, 2, 1]])\n",
        "print(ten_3) # Constant Tensors are immutable, just like Tupples\n",
        "\n",
        "print('-------------------Create A 3D Constant Tensor--------------')\n",
        "ten_4 = tf.constant([[[74, 128], [79, 116], [71, 116]],\n",
        "              [[78, 118], [82, 124], [72, 128]],\n",
        "              [[84, 138], [84, 130], [74, 120]],\n",
        "              [[82, 126], [76, 156], [82, 132]]])\n",
        "print(ten_4)\n",
        "\n",
        "# The shape is (4,3,2)\n",
        "# This can be thought as a (3*2) object repeating 4 times\n",
        "# We consider two features for 3 patients across 4 different time stamps.\n",
        "# The axes are represented as 0th axis, 1st axis and 2nd axis.\n",
        "# So, 0th axis indicates timestamps; 1st axis indicates patient and 2nd axis indicates features."
      ],
      "metadata": {
        "colab": {
          "base_uri": "https://localhost:8080/"
        },
        "id": "CRJamVftLoPL",
        "outputId": "9deeda68-477a-49e6-ada9-9e6764793335"
      },
      "execution_count": 22,
      "outputs": [
        {
          "output_type": "stream",
          "name": "stdout",
          "text": [
            "Çreating A Simple  2D Constant Tensor\n",
            "tf.Tensor(\n",
            "[[2 1 4 3]\n",
            " [1 2 3 4]\n",
            " [4 3 2 1]], shape=(3, 4), dtype=int32)\n",
            "-------------------Create A 3D Constant Tensor--------------\n",
            "tf.Tensor(\n",
            "[[[ 74 128]\n",
            "  [ 79 116]\n",
            "  [ 71 116]]\n",
            "\n",
            " [[ 78 118]\n",
            "  [ 82 124]\n",
            "  [ 72 128]]\n",
            "\n",
            " [[ 84 138]\n",
            "  [ 84 130]\n",
            "  [ 74 120]]\n",
            "\n",
            " [[ 82 126]\n",
            "  [ 76 156]\n",
            "  [ 82 132]]], shape=(4, 3, 2), dtype=int32)\n"
          ]
        }
      ]
    },
    {
      "cell_type": "markdown",
      "source": [
        "## Transform the Tensor named ten_4"
      ],
      "metadata": {
        "id": "bAzMtcGQpCIJ"
      }
    },
    {
      "cell_type": "code",
      "source": [
        "# Transpose operation\n",
        "tran_ten_4 = tf.transpose(ten_4, perm = [1,0,2])\n",
        "print(tran_ten_4)\n",
        "print('The Shape of Tran_ten_4 is:', tf.shape(tran_ten_4))\n",
        "\n",
        "# Shape of tran_ten_4 is (3,4,2)\n",
        "# We go from (0-timestamps, 1-patients, 2-features) to (1-patients, 0-timestamps, 2-features)\n",
        "# In Plain English it is a (4*2) matrix repeating 3 times.\n",
        "# We consider 2 features across 4 timestamps for 3 patients.\n",
        "# So, 0th axis indicates timestamps; 1st axis indicates patient and 2nd axis indicates features."
      ],
      "metadata": {
        "colab": {
          "base_uri": "https://localhost:8080/"
        },
        "id": "6RgfyBIIPrjb",
        "outputId": "5494c14f-b585-4af6-d27d-4ab0967b0a02"
      },
      "execution_count": 27,
      "outputs": [
        {
          "output_type": "stream",
          "name": "stdout",
          "text": [
            "tf.Tensor(\n",
            "[[[ 74 128]\n",
            "  [ 78 118]\n",
            "  [ 84 138]\n",
            "  [ 82 126]]\n",
            "\n",
            " [[ 79 116]\n",
            "  [ 82 124]\n",
            "  [ 84 130]\n",
            "  [ 76 156]]\n",
            "\n",
            " [[ 71 116]\n",
            "  [ 72 128]\n",
            "  [ 74 120]\n",
            "  [ 82 132]]], shape=(3, 4, 2), dtype=int32)\n",
            "The Shape of Tran_ten_4 is: tf.Tensor([3 4 2], shape=(3,), dtype=int32)\n"
          ]
        }
      ]
    },
    {
      "cell_type": "markdown",
      "source": [
        "![image.png](data:image/png;base64,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)"
      ],
      "metadata": {
        "id": "DCiUOWt3dONV"
      }
    },
    {
      "cell_type": "markdown",
      "source": [
        "## Indexing and Slicing in Tenors"
      ],
      "metadata": {
        "id": "xpnySAqwpGaD"
      }
    },
    {
      "cell_type": "code",
      "source": [
        "# Axis order: (1-patients, 0-timestamps, 2-features)\n",
        "print('1st feature for 1st time stamp for 1st patient:', T[0,0,0])\n",
        "print('All features for 1st time stamp for 1st patient:', T[0,0,:])\n",
        "print(' All features for 1st time stamp for second patient:', T[1,0,:])\n",
        "print('All feature for last time stamp for 1st patient:', T[0,-1,:])\n",
        "print('All features for last time stamp for all patients:', T[:,-1,:])\n",
        "print('Last Feature for all Time stamps for all patients:', T[:,:,-1])"
      ],
      "metadata": {
        "colab": {
          "base_uri": "https://localhost:8080/"
        },
        "id": "5FBDqAybUh5t",
        "outputId": "f3be40fd-900a-4f9b-b8a9-e0c10d19976c"
      },
      "execution_count": 39,
      "outputs": [
        {
          "output_type": "stream",
          "name": "stdout",
          "text": [
            "1st feature for 1st time stamp for 1st patient: tf.Tensor(74, shape=(), dtype=int32)\n",
            "All features for 1st time stamp for 1st patient: tf.Tensor([ 74 128], shape=(2,), dtype=int32)\n",
            " All features for 1st time stamp for second patient: tf.Tensor([ 79 116], shape=(2,), dtype=int32)\n",
            "All feature for last time stamp for 1st patient: tf.Tensor([ 82 126], shape=(2,), dtype=int32)\n",
            "All features for last time stamp for all patients: tf.Tensor(\n",
            "[[ 82 126]\n",
            " [ 76 156]\n",
            " [ 82 132]], shape=(3, 2), dtype=int32)\n",
            "Last Feature for all Time stamps for all patients: tf.Tensor(\n",
            "[[128 118 138 126]\n",
            " [116 124 130 156]\n",
            " [116 128 120 132]], shape=(3, 4), dtype=int32)\n"
          ]
        }
      ]
    },
    {
      "cell_type": "markdown",
      "source": [
        "## Variable Tensors"
      ],
      "metadata": {
        "id": "eNk5ZHCkpK40"
      }
    },
    {
      "cell_type": "code",
      "source": [
        "# There are concepts of constant tensors in which the entries can't be changed..\n",
        "# In variable tensors we can achieve mutability in tensors\n",
        "x = tf.reshape(x,(3,4))\n",
        "print(x) # This is a Constant Tensor, immutable in nature\n",
        "\n",
        "print('----------------------Example of Variable Tensors--------------------')\n",
        "\n",
        "# Converting the constant tensor into a variable tensor\n",
        "x_var = tf.Variable(x)\n",
        "x_var[1,2].assign(6000) # We are changing the element 6 to 6000 (Python indexing starts from 0)\n",
        "print(x_var)\n",
        "\n",
        "print('------Changing Multiple Elements in x_var----------------------------')\n",
        "\n",
        "# We can also change multiple elements in one shot as shown below\n",
        "x_var = tf.Variable(x)\n",
        "x_var\n",
        "# We want to change the first two rows and assign a value 12 in those spots\n",
        "x_var[:2,:].assign(tf.ones(x_var[:2,:].shape, dtype = tf.float32)*12)\n",
        "print(x_var)\n",
        "\n",
        "print('----------What Comes in the assign part-----------------------')\n",
        "print(tf.ones(x_var[:2,:].shape, dtype = tf.float32)*12) # It is a (2*4) matrix full of 12"
      ],
      "metadata": {
        "colab": {
          "base_uri": "https://localhost:8080/"
        },
        "id": "5VQREvydciKU",
        "outputId": "eff4049b-f7a4-41ff-88e7-1eff178dca31"
      },
      "execution_count": 53,
      "outputs": [
        {
          "output_type": "stream",
          "name": "stdout",
          "text": [
            "tf.Tensor(\n",
            "[[ 0.  1.  2.  3.]\n",
            " [ 4.  5.  6.  7.]\n",
            " [ 8.  9. 10. 11.]], shape=(3, 4), dtype=float32)\n",
            "----------------------Example of Variable Tensors--------------------\n",
            "<tf.Variable 'Variable:0' shape=(3, 4) dtype=float32, numpy=\n",
            "array([[0.0e+00, 1.0e+00, 2.0e+00, 3.0e+00],\n",
            "       [4.0e+00, 5.0e+00, 6.0e+03, 7.0e+00],\n",
            "       [8.0e+00, 9.0e+00, 1.0e+01, 1.1e+01]], dtype=float32)>\n",
            "------Changing Multiple Elements in x_var----------------------------\n",
            "<tf.Variable 'Variable:0' shape=(3, 4) dtype=float32, numpy=\n",
            "array([[12., 12., 12., 12.],\n",
            "       [12., 12., 12., 12.],\n",
            "       [ 8.,  9., 10., 11.]], dtype=float32)>\n",
            "----------What Comes in the assign part-----------------------\n",
            "tf.Tensor(\n",
            "[[12. 12. 12. 12.]\n",
            " [12. 12. 12. 12.]], shape=(2, 4), dtype=float32)\n"
          ]
        }
      ]
    },
    {
      "cell_type": "markdown",
      "source": [
        "## Tensor Operations"
      ],
      "metadata": {
        "id": "qQhG7C7WpRFo"
      }
    },
    {
      "cell_type": "code",
      "source": [
        "print('-----------------------The Tensor x in hand-----------------')\n",
        "print(x)\n",
        "\n",
        "print('Raising each elemet to its Exponential power')\n",
        "exp_x = tf.exp(x)\n",
        "print(exp_x)\n",
        "\n",
        "# Creating two tensors and applying operations\n",
        "a = tf.constant([1,2,4,8])\n",
        "b = tf.constant([2,2,2,2])\n",
        "\n",
        "print('---------------------Starting of Tensor Operations------------------------')\n",
        "\n",
        "print('Tensor Addition results in:', a+b)\n",
        "print('Tensor Subtraction results in:', a-b)\n",
        "print('Elementwise Tensor Multiplication results in:', a*b) # Known as Hadamard Product\n",
        "print('Elementwise Tensor Multiplication results in:', a/b)\n",
        "print('Elementwise raising one tensor to another results in:', a**b)"
      ],
      "metadata": {
        "colab": {
          "base_uri": "https://localhost:8080/"
        },
        "id": "GDi5kp7-njJf",
        "outputId": "c820a924-9613-4d60-a78a-d7d90dab06ea"
      },
      "execution_count": 58,
      "outputs": [
        {
          "output_type": "stream",
          "name": "stdout",
          "text": [
            "-----------------------The Tensor x in hand-----------------\n",
            "tf.Tensor(\n",
            "[[ 0.  1.  2.  3.]\n",
            " [ 4.  5.  6.  7.]\n",
            " [ 8.  9. 10. 11.]], shape=(3, 4), dtype=float32)\n",
            "Raising each elemet to its Exponential power\n",
            "tf.Tensor(\n",
            "[[1.0000000e+00 2.7182817e+00 7.3890562e+00 2.0085537e+01]\n",
            " [5.4598148e+01 1.4841316e+02 4.0342877e+02 1.0966332e+03]\n",
            " [2.9809580e+03 8.1030840e+03 2.2026465e+04 5.9874141e+04]], shape=(3, 4), dtype=float32)\n",
            "---------------------Starting of Tensor Operations------------------------\n",
            "Tensor Addition results in: tf.Tensor([ 3  4  6 10], shape=(4,), dtype=int32)\n",
            "Tensor Subtraction results in: tf.Tensor([-1  0  2  6], shape=(4,), dtype=int32)\n",
            "Elementwise Tensor Multiplication results in: tf.Tensor([ 2  4  8 16], shape=(4,), dtype=int32)\n",
            "Elementwise Tensor Multiplication results in: tf.Tensor([0.5 1.  2.  4. ], shape=(4,), dtype=float64)\n",
            "Elementwise raising one tensor to another results in: tf.Tensor([ 1  4 16 64], shape=(4,), dtype=int32)\n"
          ]
        }
      ]
    },
    {
      "cell_type": "markdown",
      "source": [
        "## Concatenation Operation of Tensors"
      ],
      "metadata": {
        "id": "1V4CVy1Srovk"
      }
    },
    {
      "cell_type": "code",
      "source": [
        "x = tf.reshape(tf.range(12, dtype=tf.float32), (3, 4))\n",
        "y = tf.constant([[2.0, 1, 4, 3], [1, 2, 3, 4], [4, 3, 2, 1]])\n",
        "print('Shape of the Tensor x is:', x.shape)\n",
        "print('Shape of the Tensor y is:', y.shape)\n",
        "xcy0 = tf.concat([x, y], axis=0) # Top to bottom ; vertical concatnation ; x on top of y\n",
        "xcy1 = tf.concat([x, y], axis=1) # Left to right ; horizontal concatenation ; x on left  of y\n",
        "print('-------------------------Vertical Concatenation x on top of y------------')\n",
        "print(xcy0)\n",
        "print('Shape of Vertical Concatenation:', xcy0.shape)\n",
        "print('-------------------------Horizontal Concatenation x on left of y---------')\n",
        "print(xcy1)\n",
        "print('Shape of Horizontal Concatenation:', xcy1.shape)"
      ],
      "metadata": {
        "colab": {
          "base_uri": "https://localhost:8080/"
        },
        "id": "8T1kFeeGpar7",
        "outputId": "970d3d20-7895-44bf-e4db-c487a9401c2f"
      },
      "execution_count": 61,
      "outputs": [
        {
          "output_type": "stream",
          "name": "stdout",
          "text": [
            "Shape of the Tensor x is: (3, 4)\n",
            "Shape of the Tensor y is: (3, 4)\n",
            "-------------------------Vertical Concatenation x on top of y------------\n",
            "tf.Tensor(\n",
            "[[ 0.  1.  2.  3.]\n",
            " [ 4.  5.  6.  7.]\n",
            " [ 8.  9. 10. 11.]\n",
            " [ 2.  1.  4.  3.]\n",
            " [ 1.  2.  3.  4.]\n",
            " [ 4.  3.  2.  1.]], shape=(6, 4), dtype=float32)\n",
            "Shape of Vertical Concatenation: (6, 4)\n",
            "-------------------------Horizontal Concatenation x on left of y---------\n",
            "tf.Tensor(\n",
            "[[ 0.  1.  2.  3.  2.  1.  4.  3.]\n",
            " [ 4.  5.  6.  7.  1.  2.  3.  4.]\n",
            " [ 8.  9. 10. 11.  4.  3.  2.  1.]], shape=(3, 8), dtype=float32)\n",
            "Shape of Horizontal Concatenation: (3, 8)\n"
          ]
        }
      ]
    },
    {
      "cell_type": "markdown",
      "source": [
        "## Binary Tensor Via Logical Statement"
      ],
      "metadata": {
        "id": "X-N91ZRut44U"
      }
    },
    {
      "cell_type": "code",
      "source": [
        "print('-------------First Tensor-----------')\n",
        "print(x)\n",
        "print('---------- Second Tensor----------')\n",
        "print(y)\n",
        "\n",
        "print(x == y) # Gives false when corresponding elements do not match and true when corresponding element matches"
      ],
      "metadata": {
        "colab": {
          "base_uri": "https://localhost:8080/"
        },
        "id": "9RPcajs9sL8H",
        "outputId": "76c1640a-90ae-480c-9c2f-dc365e168068"
      },
      "execution_count": 63,
      "outputs": [
        {
          "output_type": "stream",
          "name": "stdout",
          "text": [
            "-------------First Tensor-----------\n",
            "tf.Tensor(\n",
            "[[ 0.  1.  2.  3.]\n",
            " [ 4.  5.  6.  7.]\n",
            " [ 8.  9. 10. 11.]], shape=(3, 4), dtype=float32)\n",
            "---------- Second Tensor----------\n",
            "tf.Tensor(\n",
            "[[2. 1. 4. 3.]\n",
            " [1. 2. 3. 4.]\n",
            " [4. 3. 2. 1.]], shape=(3, 4), dtype=float32)\n",
            "tf.Tensor(\n",
            "[[False  True False  True]\n",
            " [False False False False]\n",
            " [False False False False]], shape=(3, 4), dtype=bool)\n"
          ]
        }
      ]
    },
    {
      "cell_type": "markdown",
      "source": [
        "## Advanced Operations on Tensor"
      ],
      "metadata": {
        "id": "cNKAz1ZpuhKJ"
      }
    },
    {
      "cell_type": "code",
      "source": [
        "print('-------------------Applying the reduce_sum function------------------------------')\n",
        "print(x)\n",
        "print('Sum of All elements of the Tensor is:', tf.reduce_sum(x))\n",
        "\n",
        "# This reduce_sum function is also applicable along axis\n",
        "print('Sum of Elements along axis 0 is:', tf.reduce_sum(x, axis = 0))\n",
        "# Axis 0 summs the column wise elements, matches with shape, which is (3,4); take three elements and sums it up\n",
        "\n",
        "print(print('Sum of Elements along axis 1 is:', tf.reduce_sum(x, axis = 1)))\n",
        "# Axis 1 summs the row wise elements, matches with shape, which is (3,4); take four elements and sums it up\n",
        "\n",
        "print('------------------Applying the reduce_mean function-----------------------------')\n",
        "# Axis order: 0-Patient ; 1-time stamps ; 2-features\n",
        "print(T.shape)\n",
        "print(T)\n",
        "print('How does an average patient looks like across all time stamps:', tf.math.reduce_mean(T, axis = 0))\n",
        "print('How does a patient behaves across average time stamp:', tf.math.reduce_mean(T, axis = 1))"
      ],
      "metadata": {
        "colab": {
          "base_uri": "https://localhost:8080/"
        },
        "id": "2Ko6lls0uJ88",
        "outputId": "581eaba5-0648-4092-d4c8-56bf4e44fe65"
      },
      "execution_count": 74,
      "outputs": [
        {
          "output_type": "stream",
          "name": "stdout",
          "text": [
            "-------------------Applying the reduce_sum function------------------------------\n",
            "tf.Tensor(\n",
            "[[ 0.  1.  2.  3.]\n",
            " [ 4.  5.  6.  7.]\n",
            " [ 8.  9. 10. 11.]], shape=(3, 4), dtype=float32)\n",
            "Sum of All elements of the Tensor is: tf.Tensor(66.0, shape=(), dtype=float32)\n",
            "Sum of Elements along axis 0 is: tf.Tensor([12. 15. 18. 21.], shape=(4,), dtype=float32)\n",
            "Sum of Elements along axis 1 is: tf.Tensor([ 6. 22. 38.], shape=(3,), dtype=float32)\n",
            "None\n",
            "------------------Applying the reduce_mean function-----------------------------\n",
            "(3, 4, 2)\n",
            "tf.Tensor(\n",
            "[[[ 74 128]\n",
            "  [ 78 118]\n",
            "  [ 84 138]\n",
            "  [ 82 126]]\n",
            "\n",
            " [[ 79 116]\n",
            "  [ 82 124]\n",
            "  [ 84 130]\n",
            "  [ 76 156]]\n",
            "\n",
            " [[ 71 116]\n",
            "  [ 72 128]\n",
            "  [ 74 120]\n",
            "  [ 82 132]]], shape=(3, 4, 2), dtype=int32)\n",
            "How does an average patient looks like across all time stamps: tf.Tensor(\n",
            "[[ 74 120]\n",
            " [ 77 123]\n",
            " [ 80 129]\n",
            " [ 80 138]], shape=(4, 2), dtype=int32)\n",
            "How does a patient behaves across average time stamp: tf.Tensor(\n",
            "[[ 79 127]\n",
            " [ 80 131]\n",
            " [ 74 124]], shape=(3, 2), dtype=int32)\n"
          ]
        }
      ]
    },
    {
      "cell_type": "markdown",
      "source": [
        "## Concept of Broadcasting in Tensors"
      ],
      "metadata": {
        "id": "UucC779K0jWz"
      }
    },
    {
      "cell_type": "code",
      "source": [
        "a = tf.reshape(tf.range(3), (3, 1))\n",
        "b = tf.reshape(tf.range(2), (1, 2))\n",
        "print(a)\n",
        "print(b)\n",
        "# It is clear that they have different shapes\n",
        "\n",
        "print('Broadcasted values of a+b is:', a+b)"
      ],
      "metadata": {
        "colab": {
          "base_uri": "https://localhost:8080/"
        },
        "id": "2VOx2I2qutWv",
        "outputId": "e996fbf2-8314-4e95-9976-618b6a95f246"
      },
      "execution_count": 76,
      "outputs": [
        {
          "output_type": "stream",
          "name": "stdout",
          "text": [
            "tf.Tensor(\n",
            "[[0]\n",
            " [1]\n",
            " [2]], shape=(3, 1), dtype=int32)\n",
            "tf.Tensor([[0 1]], shape=(1, 2), dtype=int32)\n",
            "Broadcasted values of a+b is: tf.Tensor(\n",
            "[[0 1]\n",
            " [1 2]\n",
            " [2 3]], shape=(3, 2), dtype=int32)\n"
          ]
        }
      ]
    }
  ]
}